{
 "cells": [
  {
   "cell_type": "markdown",
   "metadata": {
    "id": "3XX46cTrh6iD"
   },
   "source": [
    "##### Copyright 2022 The TensorFlow Authors."
   ]
  },
  {
   "cell_type": "code",
   "execution_count": null,
   "metadata": {
    "cellView": "form",
    "execution": {
     "iopub.execute_input": "2022-10-20T11:17:25.605543Z",
     "iopub.status.busy": "2022-10-20T11:17:25.604892Z",
     "iopub.status.idle": "2022-10-20T11:17:25.609098Z",
     "shell.execute_reply": "2022-10-20T11:17:25.608547Z"
    },
    "id": "sKrlWr6Kh-mF"
   },
   "outputs": [],
   "source": [
    "#@title Licensed under the Apache License, Version 2.0 (the \"License\");\n",
    "# you may not use this file except in compliance with the License.\n",
    "# You may obtain a copy of the License at\n",
    "#\n",
    "# https://www.apache.org/licenses/LICENSE-2.0\n",
    "#\n",
    "# Unless required by applicable law or agreed to in writing, software\n",
    "# distributed under the License is distributed on an \"AS IS\" BASIS,\n",
    "# WITHOUT WARRANTIES OR CONDITIONS OF ANY KIND, either express or implied.\n",
    "# See the License for the specific language governing permissions and\n",
    "# limitations under the License."
   ]
  },
  {
   "cell_type": "markdown",
   "metadata": {
    "id": "hST65kOHXpiL"
   },
   "source": [
    "# Retrain a speech recognition model with TensorFlow Lite Model Maker\n"
   ]
  },
  {
   "cell_type": "markdown",
   "metadata": {
    "id": "AeZZ_cSsZfPx"
   },
   "source": [
    "### Import the required packages\n"
   ]
  },
  {
   "cell_type": "markdown",
   "metadata": {
    "id": "MelHQlE7FVue"
   },
   "source": [
    "You'll need TensorFlow, TFLite Model Maker, and some modules for audio manipulation, playback, and visualizations."
   ]
  },
  {
   "cell_type": "code",
   "execution_count": null,
   "metadata": {
    "execution": {
     "iopub.execute_input": "2022-10-20T11:17:25.613762Z",
     "iopub.status.busy": "2022-10-20T11:17:25.613292Z",
     "iopub.status.idle": "2022-10-20T11:18:12.857591Z",
     "shell.execute_reply": "2022-10-20T11:18:12.856693Z"
    },
    "id": "wbMc4vHjaYdQ"
   },
   "outputs": [],
   "source": [
    "#!sudo apt -y install libportaudio2\n",
    "#!pip install tflite-model-maker"
   ]
  },
  {
   "cell_type": "code",
   "execution_count": 1,
   "metadata": {
    "execution": {
     "iopub.execute_input": "2022-10-20T11:18:12.862454Z",
     "iopub.status.busy": "2022-10-20T11:18:12.861903Z",
     "iopub.status.idle": "2022-10-20T11:18:16.721266Z",
     "shell.execute_reply": "2022-10-20T11:18:16.720458Z"
    },
    "id": "rwUA9u4oWoCR"
   },
   "outputs": [
    {
     "name": "stderr",
     "output_type": "stream",
     "text": [
      "c:\\Users\\Mu_keeS\\#speech_V4\\.mu_envlite3.8\\lib\\site-packages\\tensorflow_addons\\utils\\ensure_tf_install.py:53: UserWarning: Tensorflow Addons supports using Python ops for all Tensorflow versions above or equal to 2.9.0 and strictly below 2.12.0 (nightly versions are not supported). \n",
      " The versions of TensorFlow you are currently using is 2.5.0 and is not supported. \n",
      "Some things might work, some things might not.\n",
      "If you were to encounter a bug, do not file an issue.\n",
      "If you want to make sure you're using a tested and supported configuration, either change the TensorFlow version or the TensorFlow Addons's version. \n",
      "You can find the compatibility matrix in TensorFlow Addon's readme:\n",
      "https://github.com/tensorflow/addons\n",
      "  warnings.warn(\n"
     ]
    },
    {
     "name": "stdout",
     "output_type": "stream",
     "text": [
      "TensorFlow Version: 2.5.0\n",
      "Model Maker Version: 0.3.2\n",
      "Python 3.8.10\n"
     ]
    }
   ],
   "source": [
    "import os\n",
    "import glob\n",
    "import random\n",
    "import shutil\n",
    "\n",
    "import librosa\n",
    "import soundfile as sf\n",
    "from IPython.display import Audio\n",
    "import numpy as np\n",
    "import matplotlib.pyplot as plt\n",
    "import seaborn as sns\n",
    "\n",
    "import tensorflow as tf\n",
    "import tflite_model_maker as mm\n",
    "from tflite_model_maker import audio_classifier\n",
    "from tflite_model_maker.config import ExportFormat\n",
    "from timeit import default_timer as timer\n",
    "\n",
    "print(f\"TensorFlow Version: {tf.__version__}\")\n",
    "print(f\"Model Maker Version: {mm.__version__}\")\n",
    "!python --version"
   ]
  },
  {
   "cell_type": "markdown",
   "metadata": {
    "id": "cBsSAeYLkc1Z"
   },
   "source": [
    "## Prepare the dataset"
   ]
  },
  {
   "cell_type": "code",
   "execution_count": 2,
   "metadata": {
    "cellView": "form",
    "execution": {
     "iopub.execute_input": "2022-10-20T11:18:16.726182Z",
     "iopub.status.busy": "2022-10-20T11:18:16.725134Z",
     "iopub.status.idle": "2022-10-20T11:18:16.729021Z",
     "shell.execute_reply": "2022-10-20T11:18:16.728450Z"
    },
    "id": "AK9o98X7qyhU"
   },
   "outputs": [],
   "source": [
    "use_custom_dataset = True #False #@param [\"False\", \"True\"] {type:\"raw\"}"
   ]
  },
  {
   "cell_type": "markdown",
   "metadata": {
    "id": "D2sNXbYVHjjy"
   },
   "source": [
    "### Generate a background noise dataset"
   ]
  },
  {
   "cell_type": "markdown",
   "metadata": {
    "id": "bVlvVq-SkeeO"
   },
   "source": [
    "### Prepare the speech commands dataset"
   ]
  },
  {
   "cell_type": "markdown",
   "metadata": {
    "id": "EobYerLQkiF1"
   },
   "source": [
    "### Prepare a custom dataset"
   ]
  },
  {
   "cell_type": "code",
   "execution_count": 3,
   "metadata": {
    "execution": {
     "iopub.execute_input": "2022-10-20T11:18:59.174987Z",
     "iopub.status.busy": "2022-10-20T11:18:59.174711Z",
     "iopub.status.idle": "2022-10-20T11:18:59.178563Z",
     "shell.execute_reply": "2022-10-20T11:18:59.177958Z"
    },
    "id": "77PsQAKA4Arx"
   },
   "outputs": [],
   "source": [
    "if use_custom_dataset:\n",
    "  # Specify the ZIP file you uploaded:\n",
    "  ############3!unzip YOUR-FILENAME.zip\n",
    "  # Specify the unzipped path to your custom dataset\n",
    "  # (this path contains all the subfolders with classification names):\n",
    "  \n",
    "  dataset_dir = '../data-V-af-Splitted/Train_MM/' #Model_maker/data-V-ModelMaker/Train_MM/' #Main_sp/data-V'#Af-V-data/afaraf600-DS'#YOUR-DIRNAME'\n",
    "  \n",
    "  #dataset_dir= '../data_V/data-set-1015'#C:\\\\Users\\\\Mu_keeS\\\\speech_rec_V3\\\\amharic\\\\data\\\\data-set-1015'\n",
    "  "
   ]
  },
  {
   "cell_type": "markdown",
   "metadata": {
    "id": "hwp6EQqvttgf"
   },
   "source": [
    "After changing the filename and path name above, you're ready to train the model with your custom dataset. In the Colab toolbar, select **Runtime > Run all** to run the whole notebook.\n",
    "\n",
    "The following code integrates our new background noise samples into your dataset and then separates a portion of all samples to create a test set."
   ]
  },
  {
   "cell_type": "code",
   "execution_count": 4,
   "metadata": {
    "execution": {
     "iopub.execute_input": "2022-10-20T11:18:59.183047Z",
     "iopub.status.busy": "2022-10-20T11:18:59.182825Z",
     "iopub.status.idle": "2022-10-20T11:18:59.186943Z",
     "shell.execute_reply": "2022-10-20T11:18:59.186323Z"
    },
    "id": "tMQ6cpw_B9e_"
   },
   "outputs": [],
   "source": [
    "def move_background_dataset(dataset_dir):\n",
    "  dest_dir = os.path.join(dataset_dir, 'background')\n",
    "  if os.path.exists(dest_dir):\n",
    "    files = glob.glob(os.path.join(background_dir, '*.wav'))\n",
    "    for file in files:\n",
    "      shutil.move(file, dest_dir)\n",
    "  else:\n",
    "    shutil.move(background_dir, dest_dir)"
   ]
  },
  {
   "cell_type": "code",
   "execution_count": 4,
   "metadata": {},
   "outputs": [],
   "source": [
    "val_dir = '../data-V-af-Splitted/Val_MM/'#Model_maker/data-V-ModelMaker/Val_MM/'#C:\\Users\\Mu_keeS\\#speech_V4\\Main_sp\\data-V-af-Splitted\n",
    "test_dir = '../data-V-af-Splitted/Test_MM/'#Model_maker/data-V-ModelMaker/Test_MM/'"
   ]
  },
  {
   "cell_type": "markdown",
   "metadata": {
    "id": "myPa1dfEoagz"
   },
   "source": [
    "### Play a sample"
   ]
  },
  {
   "cell_type": "markdown",
   "metadata": {
    "id": "1jecBYREgMk6"
   },
   "source": [
    "To be sure the dataset looks correct, let's play at a random sample from the test set:"
   ]
  },
  {
   "cell_type": "code",
   "execution_count": 5,
   "metadata": {
    "execution": {
     "iopub.execute_input": "2022-10-20T11:18:59.198079Z",
     "iopub.status.busy": "2022-10-20T11:18:59.197606Z",
     "iopub.status.idle": "2022-10-20T11:18:59.202181Z",
     "shell.execute_reply": "2022-10-20T11:18:59.201619Z"
    },
    "id": "gLC3ayJsoeNw"
   },
   "outputs": [],
   "source": [
    "def get_random_audio_file(samples_dir):\n",
    "  files = os.path.abspath(os.path.join(samples_dir, '*/*.wav'))\n",
    "  files_list = glob.glob(files)\n",
    "  random_audio_path = random.choice(files_list)\n",
    "  return random_audio_path\n",
    "\n",
    "def show_sample(audio_path):\n",
    "  audio_data, sample_rate = sf.read(audio_path)\n",
    "  class_name = os.path.basename(os.path.dirname(audio_path))\n",
    "  print(f'Class: {class_name}')\n",
    "  print(f'File: {audio_path}')\n",
    "  print(f'Sample rate: {sample_rate}')\n",
    "  print(f'Sample length: {len(audio_data)}')\n",
    "\n",
    "  plt.title(class_name)\n",
    "  plt.plot(audio_data)\n",
    "  display(Audio(audio_data, rate=sample_rate))"
   ]
  },
  {
   "cell_type": "code",
   "execution_count": 6,
   "metadata": {
    "execution": {
     "iopub.execute_input": "2022-10-20T11:18:59.205295Z",
     "iopub.status.busy": "2022-10-20T11:18:59.204759Z",
     "iopub.status.idle": "2022-10-20T11:18:59.402759Z",
     "shell.execute_reply": "2022-10-20T11:18:59.402149Z"
    },
    "id": "todbtEWFy0mj"
   },
   "outputs": [
    {
     "name": "stdout",
     "output_type": "stream",
     "text": [
      "Class: Unknown\n",
      "File: c:\\Users\\Mu_keeS\\#speech_V4\\Main_sp\\data-V-af-Splitted\\Test_MM\\Unknown\\5aac2efa_nohash_1.wav\n",
      "Sample rate: 16000\n",
      "Sample length: 16000\n"
     ]
    },
    {
     "data": {
      "text/html": [
       "\n",
       "                <audio  controls=\"controls\" >\n",
       "                    <source src=\"data:audio/wav;base64,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\" type=\"audio/wav\" />\n",
       "                    Your browser does not support the audio element.\n",
       "                </audio>\n",
       "              "
      ],
      "text/plain": [
       "<IPython.lib.display.Audio object>"
      ]
     },
     "metadata": {},
     "output_type": "display_data"
    },
    {
     "data": {
      "image/png": "[encoded data removed]",
      "text/plain": [
       "<Figure size 640x480 with 1 Axes>"
      ]
     },
     "metadata": {},
     "output_type": "display_data"
    }
   ],
   "source": [
    "random_audio = get_random_audio_file(test_dir)\n",
    "show_sample(random_audio)"
   ]
  },
  {
   "cell_type": "markdown",
   "metadata": {
    "id": "f-jRIWcQv7xt"
   },
   "source": [
    "## Define the model"
   ]
  },
  {
   "cell_type": "markdown",
   "metadata": {
    "id": "pQj1Mf7YZELS"
   },
   "source": [
    "\n",
    "When using Model Maker to retrain any model, you have to start by defining a model spec. The spec defines the base model from which your new model will extract feature embeddings to begin learning new classes. The spec for this speech recognizer is based on the pre-trained [BrowserFft model from TFJS](https://github.com/tensorflow/tfjs-models/tree/master/speech-commands#speech-command-recognizer).\n",
    "\n",
    "The model expects input as an audio sample that's 43.1 kHz, and just under a second long: the exact sample length must be 44034 frames.\n"
   ]
  },
  {
   "cell_type": "code",
   "execution_count": 7,
   "metadata": {
    "execution": {
     "iopub.execute_input": "2022-10-20T11:18:59.406688Z",
     "iopub.status.busy": "2022-10-20T11:18:59.406448Z",
     "iopub.status.idle": "2022-10-20T11:19:03.166441Z",
     "shell.execute_reply": "2022-10-20T11:19:03.165547Z"
    },
    "id": "tUcxtfHXY7XS"
   },
   "outputs": [
    {
     "name": "stdout",
     "output_type": "stream",
     "text": [
      "INFO:tensorflow:Checkpoints are stored in C:\\Users\\Mu_keeS\\AppData\\Local\\Temp\\tmp1_ya5luj\n",
      "WARNING:tensorflow:SavedModel saved prior to TF 2.5 detected when loading Keras model. Please ensure that you are saving the model with model.save() or tf.keras.models.save_model(), *NOT* tf.saved_model.save(). To confirm, there should be a file named \"keras_metadata.pb\" in the SavedModel directory.\n",
      "WARNING:tensorflow:No training configuration found in save file, so the model was *not* compiled. Compile it manually.\n"
     ]
    }
   ],
   "source": [
    "\n",
    "spec = audio_classifier.BrowserFftSpec()\n",
    "#sample_rate=41000\n",
    "#audio_data,_ = librosa.load(random_audio, sr= sample_rate)"
   ]
  },
  {
   "cell_type": "markdown",
   "metadata": {
    "id": "maTOoRvAwI9l"
   },
   "source": [
    "## Load your dataset "
   ]
  },
  {
   "cell_type": "markdown",
   "metadata": {
    "id": "2OWQ_O9_t-C-"
   },
   "source": [
    "#### Load a custom dataset"
   ]
  },
  {
   "cell_type": "markdown",
   "metadata": {
    "id": "IPiwaJwMt7yo"
   },
   "source": [
    "**Note:** Setting `cache=True` is important to make training faster (especially when the dataset must be re-sampled) but it will also require more RAM to hold the data. If you use a very large custom dataset, caching might exceed your RAM capacity."
   ]
  },
  {
   "cell_type": "code",
   "execution_count": 8,
   "metadata": {
    "cellView": "code",
    "execution": {
     "iopub.execute_input": "2022-10-20T11:19:03.255090Z",
     "iopub.status.busy": "2022-10-20T11:19:03.254540Z",
     "iopub.status.idle": "2022-10-20T11:19:03.258630Z",
     "shell.execute_reply": "2022-10-20T11:19:03.257965Z"
    },
    "id": "e86Ej-ZmuCzy"
   },
   "outputs": [],
   "source": [
    "#val_dir = '../Model_maker/data-V-ModelMaker/Val_MM/'\n",
    "#test_dir = '../Model_maker/data-V-ModelMaker/Test_MM/'\n",
    "#val_dir= '../Model_maker/data-V-ModelMaker/Val_MM/'\n",
    "\n",
    "if use_custom_dataset:\n",
    "    ## EDit to uppload Validation dta from folder\n",
    "    #train_data_ratio = 0.8\n",
    "    train_data = audio_classifier.DataLoader.from_folder(\n",
    "    spec, dataset_dir, cache=True)\n",
    "    #train_data, validation_data = train_data.split(train_data_ratio)\n",
    "\n",
    "    validation_data = audio_classifier.DataLoader.from_folder(\n",
    "        spec, val_dir, cache=True)\n",
    "    test_data = audio_classifier.DataLoader.from_folder(\n",
    "        spec, test_dir, cache=True)\n"
   ]
  },
  {
   "cell_type": "markdown",
   "metadata": {
    "id": "hh1P_zfzwbfE"
   },
   "source": [
    "## Train the model\n"
   ]
  },
  {
   "cell_type": "markdown",
   "metadata": {
    "id": "ziMghju-Rts2"
   },
   "source": [
    "Now we'll use the Model Maker [`create()`](https://www.tensorflow.org/lite/api_docs/python/tflite_model_maker/audio_classifier/create) function to create a model based on our model spec and training dataset, and begin training.\n",
    "\n",
    "If you're using a custom dataset, you might want to change the batch size as appropriate for the number of samples in your train set.\n",
    "\n",
    "**Note:** The first epoch takes longer because it must create the cache. "
   ]
  },
  {
   "cell_type": "code",
   "execution_count": null,
   "metadata": {},
   "outputs": [],
   "source": [
    "# If your dataset has fewer than 100 samples per class,\n",
    "# you might want to try a smaller batch size"
   ]
  },
  {
   "cell_type": "code",
   "execution_count": 9,
   "metadata": {
    "execution": {
     "iopub.execute_input": "2022-10-20T11:19:03.262569Z",
     "iopub.status.busy": "2022-10-20T11:19:03.261939Z",
     "iopub.status.idle": "2022-10-20T11:20:16.445620Z",
     "shell.execute_reply": "2022-10-20T11:20:16.444812Z"
    },
    "id": "GYaZvaOPgLUC"
   },
   "outputs": [
    {
     "name": "stdout",
     "output_type": "stream",
     "text": [
      "Model: \"sequential_1\"\n",
      "_________________________________________________________________\n",
      "Layer (type)                 Output Shape              Param #   \n",
      "=================================================================\n",
      "conv2d_1 (Conv2D)            (None, 42, 225, 8)        136       \n",
      "_________________________________________________________________\n",
      "max_pooling2d_1 (MaxPooling2 (None, 21, 112, 8)        0         \n",
      "_________________________________________________________________\n",
      "conv2d_2 (Conv2D)            (None, 20, 109, 32)       2080      \n",
      "_________________________________________________________________\n",
      "max_pooling2d_2 (MaxPooling2 (None, 10, 54, 32)        0         \n",
      "_________________________________________________________________\n",
      "conv2d_3 (Conv2D)            (None, 9, 51, 32)         8224      \n",
      "_________________________________________________________________\n",
      "max_pooling2d_3 (MaxPooling2 (None, 4, 25, 32)         0         \n",
      "_________________________________________________________________\n",
      "conv2d_4 (Conv2D)            (None, 3, 22, 32)         8224      \n",
      "_________________________________________________________________\n",
      "max_pooling2d_4 (MaxPooling2 (None, 2, 11, 32)         0         \n",
      "_________________________________________________________________\n",
      "flatten_1 (Flatten)          (None, 704)               0         \n",
      "_________________________________________________________________\n",
      "dropout_1 (Dropout)          (None, 704)               0         \n",
      "_________________________________________________________________\n",
      "dense_1 (Dense)              (None, 2000)              1410000   \n",
      "_________________________________________________________________\n",
      "dropout_2 (Dropout)          (None, 2000)              0         \n",
      "_________________________________________________________________\n",
      "classification_head (Dense)  (None, 7)                 14007     \n",
      "=================================================================\n",
      "Total params: 1,442,671\n",
      "Trainable params: 14,007\n",
      "Non-trainable params: 1,428,664\n",
      "_________________________________________________________________\n",
      "Epoch 1/25\n",
      "124/124 [==============================] - 218s 2s/step - loss: 0.8134 - acc: 0.7772 - val_loss: 0.2178 - val_acc: 0.9353\n",
      "Epoch 2/25\n",
      "124/124 [==============================] - 5s 42ms/step - loss: 0.2388 - acc: 0.9312 - val_loss: 0.1318 - val_acc: 0.9677\n",
      "Epoch 3/25\n",
      "124/124 [==============================] - 6s 49ms/step - loss: 0.1574 - acc: 0.9523 - val_loss: 0.1004 - val_acc: 0.9763\n",
      "Epoch 4/25\n",
      "124/124 [==============================] - 6s 51ms/step - loss: 0.1275 - acc: 0.9620 - val_loss: 0.0807 - val_acc: 0.9849\n",
      "Epoch 5/25\n",
      "124/124 [==============================] - 7s 54ms/step - loss: 0.1039 - acc: 0.9689 - val_loss: 0.0734 - val_acc: 0.9828\n",
      "Epoch 6/25\n",
      "124/124 [==============================] - 6s 51ms/step - loss: 0.0910 - acc: 0.9728 - val_loss: 0.0710 - val_acc: 0.9828\n",
      "Epoch 7/25\n",
      "124/124 [==============================] - 7s 53ms/step - loss: 0.0695 - acc: 0.9792 - val_loss: 0.0709 - val_acc: 0.9828\n",
      "Epoch 8/25\n",
      "124/124 [==============================] - 6s 51ms/step - loss: 0.0701 - acc: 0.9783 - val_loss: 0.0714 - val_acc: 0.9784\n",
      "Epoch 9/25\n",
      "124/124 [==============================] - 6s 52ms/step - loss: 0.0717 - acc: 0.9734 - val_loss: 0.0650 - val_acc: 0.9849\n",
      "Epoch 10/25\n",
      "124/124 [==============================] - 6s 52ms/step - loss: 0.0532 - acc: 0.9838 - val_loss: 0.0677 - val_acc: 0.9784\n",
      "Epoch 11/25\n",
      "124/124 [==============================] - 7s 55ms/step - loss: 0.0594 - acc: 0.9789 - val_loss: 0.0665 - val_acc: 0.9763\n",
      "Epoch 12/25\n",
      "124/124 [==============================] - 6s 52ms/step - loss: 0.0593 - acc: 0.9825 - val_loss: 0.0612 - val_acc: 0.9849\n",
      "Epoch 13/25\n",
      "124/124 [==============================] - 6s 51ms/step - loss: 0.0508 - acc: 0.9848 - val_loss: 0.0567 - val_acc: 0.9828\n",
      "Epoch 14/25\n",
      "124/124 [==============================] - 6s 51ms/step - loss: 0.0473 - acc: 0.9857 - val_loss: 0.0613 - val_acc: 0.9849\n",
      "Epoch 15/25\n",
      "124/124 [==============================] - 7s 53ms/step - loss: 0.0484 - acc: 0.9848 - val_loss: 0.0545 - val_acc: 0.9914\n",
      "Epoch 16/25\n",
      "124/124 [==============================] - 6s 51ms/step - loss: 0.0534 - acc: 0.9848 - val_loss: 0.0607 - val_acc: 0.9871\n",
      "Epoch 17/25\n",
      "124/124 [==============================] - 6s 51ms/step - loss: 0.0462 - acc: 0.9848 - val_loss: 0.0669 - val_acc: 0.9871\n",
      "Epoch 18/25\n",
      "124/124 [==============================] - 6s 52ms/step - loss: 0.0405 - acc: 0.9873 - val_loss: 0.0575 - val_acc: 0.9871\n",
      "Epoch 19/25\n",
      "124/124 [==============================] - 6s 51ms/step - loss: 0.0441 - acc: 0.9864 - val_loss: 0.0602 - val_acc: 0.9871\n",
      "Epoch 20/25\n",
      "124/124 [==============================] - 7s 56ms/step - loss: 0.0551 - acc: 0.9844 - val_loss: 0.0637 - val_acc: 0.9849\n",
      "Epoch 21/25\n",
      "124/124 [==============================] - 6s 52ms/step - loss: 0.0374 - acc: 0.9867 - val_loss: 0.0613 - val_acc: 0.9871\n",
      "Epoch 22/25\n",
      "124/124 [==============================] - 7s 52ms/step - loss: 0.0321 - acc: 0.9906 - val_loss: 0.0644 - val_acc: 0.9806\n",
      "Epoch 23/25\n",
      "124/124 [==============================] - 7s 53ms/step - loss: 0.0443 - acc: 0.9877 - val_loss: 0.0643 - val_acc: 0.9828\n",
      "Epoch 24/25\n",
      "124/124 [==============================] - 6s 51ms/step - loss: 0.0444 - acc: 0.9864 - val_loss: 0.0629 - val_acc: 0.9806\n",
      "Epoch 25/25\n",
      "124/124 [==============================] - 6s 52ms/step - loss: 0.0508 - acc: 0.9861 - val_loss: 0.0640 - val_acc: 0.9871\n"
     ]
    }
   ],
   "source": [
    "# If the dataset has fewer than 100 samples per class,\n",
    "# a smaller batch size is recommended\n",
    "batch_size = 25\n",
    "epochs = 25\n",
    "model = audio_classifier.create(train_data, spec, validation_data, batch_size, epochs)"
   ]
  },
  {
   "cell_type": "markdown",
   "metadata": {
    "id": "mtLuRA2xweZA"
   },
   "source": [
    "## Review the model performance"
   ]
  },
  {
   "cell_type": "markdown",
   "metadata": {
    "id": "oXMEHZkAxJTl"
   },
   "source": [
    "Even if the accuracy/loss looks good from the training output above, it's important to also run the model using test data that the model has not seen yet, which is what the `evaluate()` method does here:"
   ]
  },
  {
   "cell_type": "code",
   "execution_count": 10,
   "metadata": {
    "execution": {
     "iopub.execute_input": "2022-10-20T11:20:16.449891Z",
     "iopub.status.busy": "2022-10-20T11:20:16.449633Z",
     "iopub.status.idle": "2022-10-20T11:20:18.302305Z",
     "shell.execute_reply": "2022-10-20T11:20:18.301515Z"
    },
    "id": "n_4MGpzhWVhr"
   },
   "outputs": [
    {
     "name": "stdout",
     "output_type": "stream",
     "text": [
      "28/28 [==============================] - 47s 2s/step - loss: 0.0268 - acc: 0.9944\n",
      "Accuracy= 0.994369387626648\n",
      "Loss= 0.02682187594473362\n"
     ]
    }
   ],
   "source": [
    "ll= []\n",
    "ll= model.evaluate(test_data)\n",
    "print(f'Accuracy= {ll[1]}')\n",
    "print(f'Loss= {ll[0]}')"
   ]
  },
  {
   "cell_type": "markdown",
   "metadata": {
    "id": "HqvpAnqsVExO"
   },
   "source": [
    "### View the confusion matrix"
   ]
  },
  {
   "cell_type": "markdown",
   "metadata": {
    "id": "8QRRAM39aOxS"
   },
   "source": [
    "When training a classification model such as this one, it's also useful to inspect the [confusion matrix](https://en.wikipedia.org/wiki/Confusion_matrix). The confusion matrix gives you detailed visual representation of how well your classifier performs for each classification in your test data."
   ]
  },
  {
   "cell_type": "code",
   "execution_count": 11,
   "metadata": {
    "execution": {
     "iopub.execute_input": "2022-10-20T11:20:18.306615Z",
     "iopub.status.busy": "2022-10-20T11:20:18.305949Z",
     "iopub.status.idle": "2022-10-20T11:20:20.508400Z",
     "shell.execute_reply": "2022-10-20T11:20:20.507711Z"
    },
    "id": "zqB3c0368iH3"
   },
   "outputs": [
    {
     "data": {
      "image/png": "[encoded data removed]",
      "text/plain": [
       "<Figure size 600x600 with 1 Axes>"
      ]
     },
     "metadata": {},
     "output_type": "display_data"
    }
   ],
   "source": [
    "def show_confusion_matrix(confusion, test_labels):\n",
    "  \"\"\"Compute confusion matrix and normalize.\"\"\"\n",
    "  confusion_normalized = confusion.astype('int')# / confusion.sum(axis=1)\n",
    "  sns.set(rc = {'figure.figsize':(6,6)})\n",
    "  sns.heatmap(\n",
    "      confusion_normalized, xticklabels=test_labels, yticklabels=test_labels,\n",
    "      cmap='Blues', annot=True, fmt='.2f', square=True, cbar=False)\n",
    "  plt.title(\"Confusion matrix\")\n",
    "  plt.ylabel(\"True label\")\n",
    "  plt.xlabel(\"Predicted label\")\n",
    "\n",
    "confusion_matrix = model.confusion_matrix(test_data)\n",
    "show_confusion_matrix(confusion_matrix.numpy(), test_data.index_to_label)"
   ]
  },
  {
   "cell_type": "markdown",
   "metadata": {
    "id": "yASrikBgZ9ZO"
   },
   "source": [
    "## Export the model\n",
    "\n",
    "The last step is exporting your model into the TensorFlow Lite format for execution on mobile/embedded devices and into the [SavedModel format](https://www.tensorflow.org/guide/saved_model) for execution elsewhere.\n",
    "\n",
    "When exporting a `.tflite` file from Model Maker, it includes [model metadata](https://www.tensorflow.org/lite/inference_with_metadata/overview) that describes various details that can later help during inference. It even includes a copy of the classification labels file, so you don't need to a separate `labels.txt` file. (In the next section, we show how to use this metadata to run an inference.)"
   ]
  },
  {
   "cell_type": "code",
   "execution_count": 12,
   "metadata": {
    "execution": {
     "iopub.execute_input": "2022-10-20T11:20:20.512722Z",
     "iopub.status.busy": "2022-10-20T11:20:20.512246Z",
     "iopub.status.idle": "2022-10-20T11:20:20.515780Z",
     "shell.execute_reply": "2022-10-20T11:20:20.515155Z"
    },
    "id": "4gEf59NfGWjq"
   },
   "outputs": [
    {
     "name": "stdout",
     "output_type": "stream",
     "text": [
      "Exporing the model to ./models-v89\n",
      "WARNING:tensorflow:Compiled the loaded model, but the compiled metrics have yet to be built. `model.compile_metrics` will be empty until you train or evaluate the model.\n"
     ]
    },
    {
     "name": "stdout",
     "output_type": "stream",
     "text": [
      "INFO:tensorflow:Assets written to: C:\\Users\\Mu_keeS\\AppData\\Local\\Temp\\tmpwl8lkkzn\\assets\n",
      "INFO:tensorflow:TensorFlow Lite model exported successfully: ./models-v89\\QafarAf-Model1.tflite\n"
     ]
    },
    {
     "name": "stderr",
     "output_type": "stream",
     "text": [
      "INFO:tensorflow:TensorFlow Lite model exported successfully: ./models-v89\\QafarAf-Model1.tflite\n"
     ]
    },
    {
     "name": "stdout",
     "output_type": "stream",
     "text": [
      "WARNING:tensorflow:Compiled the loaded model, but the compiled metrics have yet to be built. `model.compile_metrics` will be empty until you train or evaluate the model.\n"
     ]
    },
    {
     "name": "stderr",
     "output_type": "stream",
     "text": [
      "WARNING:tensorflow:Compiled the loaded model, but the compiled metrics have yet to be built. `model.compile_metrics` will be empty until you train or evaluate the model.\n"
     ]
    },
    {
     "name": "stdout",
     "output_type": "stream",
     "text": [
      "INFO:tensorflow:Assets written to: ./models-v89\\saved_model\\assets\n"
     ]
    },
    {
     "name": "stderr",
     "output_type": "stream",
     "text": [
      "INFO:tensorflow:Assets written to: ./models-v89\\saved_model\\assets\n"
     ]
    },
    {
     "name": "stdout",
     "output_type": "stream",
     "text": [
      "INFO:tensorflow:Saving labels in ./models-v89\\labels.txt\n"
     ]
    },
    {
     "name": "stderr",
     "output_type": "stream",
     "text": [
      "INFO:tensorflow:Saving labels in ./models-v89\\labels.txt\n"
     ]
    }
   ],
   "source": [
    "TFLITE_FILENAME = 'QafarAf-Model1.tflite'\n",
    "SAVE_PATH = './models-v89'\n",
    "\n",
    "print(f'Exporing the model to {SAVE_PATH}')\n",
    "model.export(SAVE_PATH, tflite_filename=TFLITE_FILENAME)\n",
    "model.export(SAVE_PATH, export_format=[mm.ExportFormat.SAVED_MODEL, mm.ExportFormat.LABEL])"
   ]
  },
  {
   "cell_type": "markdown",
   "metadata": {
    "id": "lIC1ddGq6xQX"
   },
   "source": [
    "## Run inference with TF Lite model"
   ]
  },
  {
   "cell_type": "markdown",
   "metadata": {
    "id": "5xr0idac6xfi"
   },
   "source": [
    "Now your TFLite model can be deployed and run using any of the supported [inferencing libraries](https://www.tensorflow.org/lite/guide/inference) or with the new [TFLite AudioClassifier Task API](https://www.tensorflow.org/lite/inference_with_metadata/task_library/audio_classifier). The following code shows how you can run inference with the `.tflite` model in Python."
   ]
  },
  {
   "cell_type": "code",
   "execution_count": null,
   "metadata": {
    "execution": {
     "iopub.execute_input": "2022-10-20T11:20:25.239747Z",
     "iopub.status.busy": "2022-10-20T11:20:25.239502Z",
     "iopub.status.idle": "2022-10-20T11:20:26.917789Z",
     "shell.execute_reply": "2022-10-20T11:20:26.916584Z"
    },
    "id": "nR5zV53YbCIQ"
   },
   "outputs": [],
   "source": [
    "# This library provides the TFLite metadata API\n",
    "#! pip install -q tflite_support"
   ]
  },
  {
   "cell_type": "code",
   "execution_count": 14,
   "metadata": {
    "execution": {
     "iopub.execute_input": "2022-10-20T11:20:26.922872Z",
     "iopub.status.busy": "2022-10-20T11:20:26.922215Z",
     "iopub.status.idle": "2022-10-20T11:20:26.928767Z",
     "shell.execute_reply": "2022-10-20T11:20:26.928174Z"
    },
    "id": "1AC7PRyiayU5"
   },
   "outputs": [],
   "source": [
    "from tflite_support import metadata\n",
    "import json\n",
    "\n",
    "def get_labels(model):\n",
    "  \"\"\"Returns a list of labels, extracted from the model metadata.\"\"\"\n",
    "  displayer = metadata.MetadataDisplayer.with_model_file(model)\n",
    "  labels_file = displayer.get_packed_associated_file_list()[0]\n",
    "  labels = displayer.get_associated_file_buffer(labels_file).decode()\n",
    "  return [line for line in labels.split('\\n')]\n",
    "\n",
    "def get_input_sample_rate(model):\n",
    "  \"\"\"Returns the model's expected sample rate, from the model metadata.\"\"\"\n",
    "  displayer = metadata.MetadataDisplayer.with_model_file(model)\n",
    "  metadata_json = json.loads(displayer.get_metadata_json())\n",
    "  input_tensor_metadata = metadata_json['subgraph_metadata'][0][\n",
    "          'input_tensor_metadata'][0]\n",
    "  input_content_props = input_tensor_metadata['content']['content_properties']\n",
    "  return input_content_props['sample_rate']\n"
   ]
  },
  {
   "cell_type": "code",
   "execution_count": 34,
   "metadata": {},
   "outputs": [
    {
     "name": "stdout",
     "output_type": "stream",
     "text": [
      "---prediction---\n",
      "Class: A_noise\n",
      "Score: 0.8580951690673828\n",
      "----truth----\n",
      "Class: A_noise\n",
      "File: c:\\Users\\Mu_keeS\\#speech_V4\\Main_sp\\data-V-af-Splitted\\Test_MM\\A_noise\\_noise.340.wav\n",
      "Sample rate: 16000\n",
      "Sample length: 16000\n"
     ]
    },
    {
     "data": {
      "text/html": [
       "\n",
       "                <audio  controls=\"controls\" >\n",
       "                    <source src=\"data:audio/wav;base64,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\" type=\"audio/wav\" />\n",
       "                    Your browser does not support the audio element.\n",
       "                </audio>\n",
       "              "
      ],
      "text/plain": [
       "<IPython.lib.display.Audio object>"
      ]
     },
     "metadata": {},
     "output_type": "display_data"
    },
    {
     "data": {
      "image/png": "[encoded data removed]",
      "text/plain": [
       "<Figure size 600x600 with 1 Axes>"
      ]
     },
     "metadata": {},
     "output_type": "display_data"
    }
   ],
   "source": [
    "# Get a WAV file for inference and list of labels from the model\n",
    "tflite_file = os.path.join(SAVE_PATH, TFLITE_FILENAME)\n",
    "labels = get_labels(tflite_file)\n",
    "random_audio = get_random_audio_file(test_dir)\n",
    "\n",
    "# Ensure the audio sample fits the model input\n",
    "interpreter = tf.lite.Interpreter(tflite_file)\n",
    "input_details = interpreter.get_input_details()\n",
    "output_details = interpreter.get_output_details()\n",
    "input_size = input_details[0]['shape'][1]\n",
    "sample_rate = get_input_sample_rate(tflite_file)\n",
    "audio_data, _ = librosa.load(random_audio, sr=sample_rate)\n",
    "if len(audio_data) < input_size:\n",
    "  audio_data.resize(input_size)\n",
    "audio_data = np.expand_dims(audio_data[:input_size], axis=0)\n",
    "\n",
    "# Run inference\n",
    "interpreter.allocate_tensors()\n",
    "interpreter.set_tensor(input_details[0]['index'], audio_data)\n",
    "interpreter.invoke()\n",
    "output_data = interpreter.get_tensor(output_details[0]['index'])\n",
    "\n",
    "# Display prediction and ground truth\n",
    "top_index = np.argmax(output_data[0])\n",
    "label = labels[top_index]\n",
    "score = output_data[0][top_index]\n",
    "print('---prediction---')\n",
    "print(f'Class: {label}\\nScore: {score}')\n",
    "print('----truth----')\n",
    "show_sample(random_audio)"
   ]
  },
  {
   "cell_type": "markdown",
   "metadata": {},
   "source": [
    "ENDDDDDDDDDDDD"
   ]
  },
  {
   "cell_type": "code",
   "execution_count": null,
   "metadata": {},
   "outputs": [],
   "source": [
    "start = timer()\n",
    "SAVE_PATH = \"..\\\\Model_maker\\\\models-v6\\\\\"\n",
    "TFLITE_FILENAME= 'qafaraf-mm-v6.tflite'\n",
    "# Get a WAV file for inference and list of labels from the model\n",
    "tflite_file = os.path.join(SAVE_PATH, TFLITE_FILENAME)\n",
    "labels = get_labels(tflite_file)\n",
    "random_audio = get_random_audio_file(test_dir)\n",
    "# Ensure the audio sample fits the model input\n",
    "interpreter = tf.lite.Interpreter(tflite_file)\n",
    "input_details = interpreter.get_input_details()\n",
    "output_details = interpreter.get_output_details()\n",
    "input_size = input_details[0]['shape'][1]\n",
    "#print(input_size)\n",
    "random_audio\n",
    "\n",
    "\n"
   ]
  },
  {
   "cell_type": "code",
   "execution_count": null,
   "metadata": {},
   "outputs": [],
   "source": []
  },
  {
   "cell_type": "code",
   "execution_count": null,
   "metadata": {},
   "outputs": [],
   "source": []
  },
  {
   "cell_type": "code",
   "execution_count": null,
   "metadata": {},
   "outputs": [],
   "source": [
    "audio_data, _ = librosa.load(random_audio, sr=sample_rate)\n",
    "print(sample_rate)\n",
    "print(audio_data.shape)\n",
    "if len(audio_data) < input_size:\n",
    "  audio_data.resize(input_size)\n",
    "audio_data = np.expand_dims(audio_data1[:input_size], axis=0)\n",
    "\n",
    "# Run inference\n",
    "interpreter.allocate_tensors()\n",
    "interpreter.set_tensor(input_details[0]['index'], audio_data)\n",
    "interpreter.invoke()\n",
    "output_data = interpreter.get_tensor(output_details[0]['index'])\n",
    "\n",
    "# Display prediction and ground truth\n",
    "top_index = np.argmax(output_data[0])\n",
    "top_index1= tf.nn.softmax(output_data[0])\n",
    "\n",
    "label = labels[top_index]\n",
    "score = output_data[0][top_index]\n",
    "\n",
    "\n",
    "end = timer()\n",
    "#print(f'Inference Time:{end-start}')\n",
    "print(end-start)\n",
    "\n",
    "print('---prediction---')\n",
    "#print(output_data[0])\n",
    "#print(top_index1)\n",
    "print(f'Class: {label}\\nScore: {score}')\n",
    "print('----truth----')\n",
    "show_sample(x)"
   ]
  },
  {
   "cell_type": "code",
   "execution_count": null,
   "metadata": {},
   "outputs": [],
   "source": []
  },
  {
   "cell_type": "code",
   "execution_count": null,
   "metadata": {},
   "outputs": [],
   "source": [
    "sample_rate=41000\n",
    "audio_data, _ = librosa.load(random_audio, sr=sample_rate)\n",
    "#print(sample_rate)"
   ]
  },
  {
   "cell_type": "code",
   "execution_count": null,
   "metadata": {},
   "outputs": [],
   "source": [
    "\n",
    "x= '..\\\\Model_maker\\\\data-V-ModelMaker\\\\Test41\\\\test_af4.wav'\n",
    "print(x)\n",
    "random_audio\n",
    "audio_data1, _ = librosa.load(x, sr=sample_rate)\n",
    "print(audio_data1.shape)\n",
    "audio_data, _ = librosa.load(random_audio, sr=sample_rate)\n",
    "print(audio_data.shape)"
   ]
  },
  {
   "cell_type": "code",
   "execution_count": null,
   "metadata": {},
   "outputs": [],
   "source": [
    "input_size"
   ]
  },
  {
   "cell_type": "code",
   "execution_count": null,
   "metadata": {},
   "outputs": [],
   "source": [
    "#sample_rate\n",
    "#random_audio = x\n",
    "if len(audio_data1) < input_size:\n",
    "  audio_data1.resize(input_size)\n",
    "audio_data1 = np.expand_dims(audio_data1[:input_size], axis=0)"
   ]
  },
  {
   "cell_type": "code",
   "execution_count": null,
   "metadata": {},
   "outputs": [],
   "source": [
    "audio_data1.shape"
   ]
  },
  {
   "cell_type": "markdown",
   "metadata": {
    "id": "yC7TEvQ9o4mu"
   },
   "source": [
    "To observe how well the model performs with real samples, run the following code block over and over. Each time, it will fetch a new test sample and run inference with it, and you can listen to the audio sample below."
   ]
  },
  {
   "cell_type": "code",
   "execution_count": null,
   "metadata": {
    "execution": {
     "iopub.execute_input": "2022-10-20T11:20:26.932669Z",
     "iopub.status.busy": "2022-10-20T11:20:26.932126Z",
     "iopub.status.idle": "2022-10-20T11:20:27.295340Z",
     "shell.execute_reply": "2022-10-20T11:20:27.294499Z"
    },
    "id": "loU6PleipSPf"
   },
   "outputs": [],
   "source": [
    "start =timer()\n",
    "\n",
    "x= '..\\\\Model_maker\\\\data-V-ModelMaker\\\\Test41\\\\test_af1.wav'\n",
    "print(x)\n",
    "#audio_data=\n",
    "sample_rate = get_input_sample_rate(tflite_file)\n",
    "audio_data, _ = librosa.load(random_audio, sr=sample_rate)\n",
    "\n",
    "if len(audio_data) < input_size:\n",
    "  audio_data.resize(input_size)\n",
    "audio_data = np.expand_dims(audio_data[:input_size], axis=0)\n",
    "audio_data.shape\n"
   ]
  },
  {
   "cell_type": "code",
   "execution_count": null,
   "metadata": {},
   "outputs": [],
   "source": [
    "start = timer()\n",
    "\n",
    "x= '..\\\\Model_maker\\\\data-V-ModelMaker\\\\Test41\\\\af_test16.wav'\n",
    "#print(x)\n",
    "#random_audio\n",
    "sample_rate= 41000\n",
    "audio_data1, _ = librosa.load(x, sr=sample_rate)\n",
    "print(audio_data1.shape)\n",
    "if len(audio_data1) < input_size:\n",
    "  audio_data1.resize(input_size)\n",
    "audio_data1 = np.expand_dims(audio_data1[:input_size], axis=0)\n",
    "\n",
    "# Run inference\n",
    "interpreter.allocate_tensors()\n",
    "interpreter.set_tensor(input_details[0]['index'], audio_data1)\n",
    "interpreter.invoke()\n",
    "output_data = interpreter.get_tensor(output_details[0]['index'])\n",
    "\n",
    "# Display prediction and ground truth\n",
    "top_index = np.argmax(output_data[0])\n",
    "top_index1= tf.nn.softmax(output_data[0])\n",
    "\n",
    "label = labels[top_index]\n",
    "score = output_data[0][top_index]\n",
    "\n",
    "\n",
    "end = timer()\n",
    "#print(f'Inference Time:{end-start}')\n",
    "print(end-start)\n",
    "\n",
    "print('---prediction---')\n",
    "#print(output_data[0])\n",
    "#print(top_index1)\n",
    "print(f'Class: {label}\\nScore: {score}')\n",
    "print('----truth----')\n",
    "show_sample(x)\n",
    "\n",
    "\n"
   ]
  },
  {
   "cell_type": "code",
   "execution_count": null,
   "metadata": {},
   "outputs": [],
   "source": [
    "input_size"
   ]
  },
  {
   "cell_type": "code",
   "execution_count": null,
   "metadata": {},
   "outputs": [],
   "source": [
    "top_index1\n",
    "np.argmax(top_index1)"
   ]
  },
  {
   "cell_type": "code",
   "execution_count": null,
   "metadata": {},
   "outputs": [],
   "source": [
    "\n",
    "\n",
    "\n",
    "print('---prediction---')\n",
    "print(f'Class: {label}\\nScore: {score}')\n",
    "print('----truth----')\n",
    "show_sample(x)\n"
   ]
  },
  {
   "cell_type": "code",
   "execution_count": null,
   "metadata": {},
   "outputs": [],
   "source": [
    "input_details[0]['index']\n",
    "audio_data.shape\n",
    "#input_size.shape"
   ]
  },
  {
   "cell_type": "code",
   "execution_count": null,
   "metadata": {},
   "outputs": [],
   "source": [
    "model.evaluate_tflite(test_data)"
   ]
  },
  {
   "cell_type": "code",
   "execution_count": null,
   "metadata": {},
   "outputs": [],
   "source": [
    "input_details"
   ]
  },
  {
   "cell_type": "markdown",
   "metadata": {
    "id": "VtmfoJW6G2fd"
   },
   "source": [
    "## Download the TF Lite model"
   ]
  },
  {
   "cell_type": "markdown",
   "metadata": {
    "id": "8zLDeiQ_z2Vj"
   },
   "source": [
    "Now you can deploy the TF Lite model to your mobile or embedded device. You don't need to download the labels file because you can instead retrieve the labels from `.tflite` file metadata, as shown in the previous inferencing example."
   ]
  },
  {
   "cell_type": "code",
   "execution_count": null,
   "metadata": {
    "execution": {
     "iopub.execute_input": "2022-10-20T11:20:27.299869Z",
     "iopub.status.busy": "2022-10-20T11:20:27.299145Z",
     "iopub.status.idle": "2022-10-20T11:20:27.304150Z",
     "shell.execute_reply": "2022-10-20T11:20:27.303338Z"
    },
    "id": "cNuQoqtjG4zu"
   },
   "outputs": [],
   "source": [
    "try:\n",
    "  from google.colab import files\n",
    "except ImportError:\n",
    "  pass\n",
    "else:\n",
    "  files.download(tflite_file)"
   ]
  },
  {
   "cell_type": "markdown",
   "metadata": {
    "id": "iERuGZz4z6rB"
   },
   "source": [
    "Check out our end-to-end example apps that perform inferencing with TFLite audio models on [Android](https://github.com/tensorflow/examples/tree/master/lite/examples/sound_classification/android/) and [iOS](https://github.com/tensorflow/examples/tree/master/lite/examples/sound_classification/ios)."
   ]
  }
 ],
 "metadata": {
  "accelerator": "GPU",
  "colab": {
   "collapsed_sections": [],
   "name": "model_maker_speech_recognition.ipynb",
   "private_outputs": true,
   "provenance": [],
   "toc_visible": true
  },
  "kernelspec": {
   "display_name": "Python 3",
   "name": "python3"
  },
  "language_info": {
   "codemirror_mode": {
    "name": "ipython",
    "version": 3
   },
   "file_extension": ".py",
   "mimetype": "text/x-python",
   "name": "python",
   "nbconvert_exporter": "python",
   "pygments_lexer": "ipython3",
   "version": "3.8.10"
  }
 },
 "nbformat": 4,
 "nbformat_minor": 0
}
